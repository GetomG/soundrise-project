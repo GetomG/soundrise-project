{
 "cells": [
  {
   "cell_type": "markdown",
   "metadata": {},
   "source": [
    "# Official Demo"
   ]
  },
  {
   "cell_type": "code",
   "execution_count": 1,
   "metadata": {},
   "outputs": [
    {
     "name": "stdout",
     "output_type": "stream",
     "text": [
      "Collecting umbral\n",
      "  Downloading umbral-0.3.0-py3-none-any.whl.metadata (9.0 kB)\n",
      "Requirement already satisfied: setuptools in /usr/local/lib/python3.10/site-packages (from umbral) (69.0.3)\n",
      "Collecting cryptography~=3.0 (from umbral)\n",
      "  Downloading cryptography-3.4.8-cp36-abi3-macosx_10_10_x86_64.whl.metadata (5.1 kB)\n",
      "Collecting pynacl~=1.0 (from umbral)\n",
      "  Downloading PyNaCl-1.5.0-cp36-abi3-macosx_10_10_universal2.whl.metadata (8.7 kB)\n",
      "Requirement already satisfied: cffi>=1.12 in /usr/local/lib/python3.10/site-packages (from cryptography~=3.0->umbral) (1.16.0)\n",
      "Requirement already satisfied: pycparser in /usr/local/lib/python3.10/site-packages (from cffi>=1.12->cryptography~=3.0->umbral) (2.21)\n",
      "Downloading umbral-0.3.0-py3-none-any.whl (39 kB)\n",
      "Downloading cryptography-3.4.8-cp36-abi3-macosx_10_10_x86_64.whl (2.0 MB)\n",
      "\u001b[2K   \u001b[90m━━━━━━━━━━━━━━━━━━━━━━━━━━━━━━━━━━━━━━━━\u001b[0m \u001b[32m2.0/2.0 MB\u001b[0m \u001b[31m6.3 MB/s\u001b[0m eta \u001b[36m0:00:00\u001b[0ma \u001b[36m0:00:01\u001b[0m\n",
      "\u001b[?25hDownloading PyNaCl-1.5.0-cp36-abi3-macosx_10_10_universal2.whl (349 kB)\n",
      "Installing collected packages: pynacl, cryptography, umbral\n",
      "Successfully installed cryptography-3.4.8 pynacl-1.5.0 umbral-0.3.0\n"
     ]
    }
   ],
   "source": [
    "!pip install umbral"
   ]
  },
  {
   "cell_type": "code",
   "execution_count": 3,
   "metadata": {},
   "outputs": [],
   "source": [
    "from umbral import SecretKey, Signer\n",
    "\n",
    "# Generate Umbral keys for Alice.\n",
    "alices_secret_key = SecretKey.random()\n",
    "alices_public_key = alices_secret_key.public_key()\n",
    "\n",
    "alices_signing_key = SecretKey.random()\n",
    "alices_signer = Signer(alices_signing_key)\n",
    "alices_verifying_key = alices_signing_key.public_key()\n",
    "\n",
    "# Generate Umbral keys for Bob.\n",
    "bobs_secret_key = SecretKey.random()\n",
    "bobs_public_key = bobs_secret_key.public_key()\n"
   ]
  },
  {
   "cell_type": "code",
   "execution_count": 4,
   "metadata": {},
   "outputs": [
    {
     "data": {
      "text/plain": [
       "<umbral.keys.SecretKey at 0x10ef3c0d0>"
      ]
     },
     "execution_count": 4,
     "metadata": {},
     "output_type": "execute_result"
    }
   ],
   "source": [
    "alices_secret_key"
   ]
  },
  {
   "cell_type": "code",
   "execution_count": 5,
   "metadata": {},
   "outputs": [],
   "source": [
    "from umbral import encrypt, decrypt_original\n",
    "\n",
    "# Encrypt data with Alice's public key.\n",
    "plaintext = b'Proxy Re-Encryption is cool!'\n",
    "capsule, ciphertext = encrypt(alices_public_key, plaintext)\n",
    "\n",
    "# Decrypt data with Alice's private key.\n",
    "cleartext = decrypt_original(alices_secret_key, capsule, ciphertext)"
   ]
  },
  {
   "cell_type": "code",
   "execution_count": 7,
   "metadata": {},
   "outputs": [
    {
     "data": {
      "text/plain": [
       "b'Proxy Re-Encryption is cool!'"
      ]
     },
     "execution_count": 7,
     "metadata": {},
     "output_type": "execute_result"
    }
   ],
   "source": [
    "cleartext"
   ]
  },
  {
   "cell_type": "markdown",
   "metadata": {},
   "source": [
    "## Bob side"
   ]
  },
  {
   "cell_type": "code",
   "execution_count": 8,
   "metadata": {},
   "outputs": [],
   "source": [
    "from umbral import generate_kfrags\n",
    "\n",
    "kfrags = generate_kfrags(\n",
    "    delegating_sk=alices_secret_key,   # Alice’s private key\n",
    "    receiving_pk=bobs_public_key,      # Bob’s public key\n",
    "    signer=alices_signer,              # Alice’s signer (for security & verification)\n",
    "    threshold=10,                      # Minimum number of fragments required to decrypt\n",
    "    shares=20                          # Total number of fragments created\n",
    ")"
   ]
  },
  {
   "cell_type": "markdown",
   "metadata": {},
   "source": [
    "## Re-encryption"
   ]
  },
  {
   "cell_type": "code",
   "execution_count": 9,
   "metadata": {},
   "outputs": [],
   "source": [
    "from umbral import reencrypt, pre\n",
    "\n",
    "# Several Ursulas perform re-encryption, and Bob collects the resulting `cfrags`.\n",
    "cfrags = list()           # Bob's cfrag collection\n",
    "for kfrag in kfrags[:10]:\n",
    "    cfrag = pre.reencrypt(capsule=capsule, kfrag=kfrag)\n",
    "    cfrags.append(cfrag)    # Bob collects a cfrag"
   ]
  },
  {
   "cell_type": "code",
   "execution_count": 11,
   "metadata": {},
   "outputs": [
    {
     "data": {
      "text/plain": [
       "[<umbral.capsule_frag.VerifiedCapsuleFrag at 0x1139c0310>,\n",
       " <umbral.capsule_frag.VerifiedCapsuleFrag at 0x114fbdcf0>,\n",
       " <umbral.capsule_frag.VerifiedCapsuleFrag at 0x114f7a440>,\n",
       " <umbral.capsule_frag.VerifiedCapsuleFrag at 0x114f785e0>,\n",
       " <umbral.capsule_frag.VerifiedCapsuleFrag at 0x114f79870>,\n",
       " <umbral.capsule_frag.VerifiedCapsuleFrag at 0x114f7bdc0>,\n",
       " <umbral.capsule_frag.VerifiedCapsuleFrag at 0x114f78820>,\n",
       " <umbral.capsule_frag.VerifiedCapsuleFrag at 0x114f7b9d0>,\n",
       " <umbral.capsule_frag.VerifiedCapsuleFrag at 0x114f7a6e0>,\n",
       " <umbral.capsule_frag.VerifiedCapsuleFrag at 0x114f78d60>]"
      ]
     },
     "execution_count": 11,
     "metadata": {},
     "output_type": "execute_result"
    }
   ],
   "source": [
    "cfrags"
   ]
  },
  {
   "cell_type": "markdown",
   "metadata": {},
   "source": [
    "## Decryption by Bob"
   ]
  },
  {
   "cell_type": "code",
   "execution_count": 16,
   "metadata": {},
   "outputs": [],
   "source": [
    "from umbral import decrypt_reencrypted\n",
    "\n",
    "bob_cleartext = pre.decrypt_reencrypted(receiving_sk=bobs_secret_key,\n",
    "                                        delegating_pk=alices_public_key,\n",
    "                                        capsule=capsule,\n",
    "                                        verified_cfrags=cfrags,\n",
    "                                        ciphertext=ciphertext)\n",
    "assert bob_cleartext == plaintext"
   ]
  },
  {
   "cell_type": "code",
   "execution_count": 17,
   "metadata": {},
   "outputs": [
    {
     "data": {
      "text/plain": [
       "b'Proxy Re-Encryption is cool!'"
      ]
     },
     "execution_count": 17,
     "metadata": {},
     "output_type": "execute_result"
    }
   ],
   "source": [
    "bob_cleartext"
   ]
  },
  {
   "cell_type": "code",
   "execution_count": 15,
   "metadata": {},
   "outputs": [
    {
     "name": "stdout",
     "output_type": "stream",
     "text": [
      "Help on function decrypt_reencrypted in module umbral.pre:\n",
      "\n",
      "decrypt_reencrypted(receiving_sk: umbral.keys.SecretKey, delegating_pk: umbral.keys.PublicKey, capsule: umbral.capsule.Capsule, verified_cfrags: Sequence[umbral.capsule_frag.VerifiedCapsuleFrag], ciphertext: bytes) -> bytes\n",
      "    Decrypts the ciphertext using the original capsule and the reencrypted capsule fragments.\n",
      "\n"
     ]
    }
   ],
   "source": [
    "help(pre.decrypt_reencrypted)"
   ]
  }
 ],
 "metadata": {
  "kernelspec": {
   "display_name": "Python 3",
   "language": "python",
   "name": "python3"
  },
  "language_info": {
   "codemirror_mode": {
    "name": "ipython",
    "version": 3
   },
   "file_extension": ".py",
   "mimetype": "text/x-python",
   "name": "python",
   "nbconvert_exporter": "python",
   "pygments_lexer": "ipython3",
   "version": "3.10.13"
  }
 },
 "nbformat": 4,
 "nbformat_minor": 2
}
