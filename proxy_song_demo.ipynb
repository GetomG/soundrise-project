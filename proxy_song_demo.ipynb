{
 "cells": [
  {
   "cell_type": "markdown",
   "metadata": {},
   "source": [
    "# Song Proxy Re-encryption demo \n",
    "### via Umbral & Pinata IPFS Services"
   ]
  },
  {
   "cell_type": "code",
   "execution_count": null,
   "metadata": {},
   "outputs": [],
   "source": [
    "# !pip install umbral cryptography ipfshttpclient\n",
    "# !pip install cryptography ipfshttpclient"
   ]
  },
  {
   "cell_type": "markdown",
   "metadata": {},
   "source": [
    "## Pinata API"
   ]
  },
  {
   "cell_type": "markdown",
   "metadata": {},
   "source": []
  },
  {
   "cell_type": "code",
   "execution_count": null,
   "metadata": {},
   "outputs": [],
   "source": [
    "# curl --request GET \\\n",
    "#      --url https://api.pinata.cloud/data/testAuthentication \\\n",
    "#      --header 'accept: application/json' \\\n",
    "#      --header 'authorization: Bearer 'your JWT token'"
   ]
  },
  {
   "cell_type": "code",
   "execution_count": null,
   "metadata": {},
   "outputs": [],
   "source": [
    "# {\"message\":\"Congratulations! You are communicating with the Pinata API!\"}%  "
   ]
  },
  {
   "cell_type": "code",
   "execution_count": 12,
   "metadata": {},
   "outputs": [],
   "source": [
    "from cryptography.hazmat.primitives.ciphers import Cipher, algorithms, modes\n",
    "from cryptography.hazmat.primitives import padding\n",
    "from cryptography.hazmat.backends import default_backend\n",
    "import os\n",
    "import ipfshttpclient\n",
    "\n",
    "# === Step 1: Generate a random AES key ===\n",
    "aes_key = os.urandom(32)  # AES-256\n",
    "iv = os.urandom(16)       # Initialization Vector\n",
    "\n",
    "# === Step 2: Read and encrypt the MP3 file ===\n",
    "file_path = '/Users/thanakrit/Documents/SoundRise_new/music files/japanese_fish.mp3'  # Replace with your local MP3 file\n",
    "with open(file_path, 'rb') as f:\n",
    "    mp3_data = f.read()\n",
    "\n",
    "# Pad the MP3 data for AES block alignment\n",
    "padder = padding.PKCS7(128).padder()\n",
    "padded_data = padder.update(mp3_data) + padder.finalize()\n",
    "\n",
    "# Encrypt\n",
    "cipher = Cipher(algorithms.AES(aes_key), modes.CBC(iv), backend=default_backend())\n",
    "encryptor = cipher.encryptor()\n",
    "ciphertext = encryptor.update(padded_data) + encryptor.finalize()\n",
    "\n",
    "# === Step 3: Save encrypted file locally ===\n",
    "with open('encrypted_audio.bin', 'wb') as f:\n",
    "    f.write(iv + ciphertext)  # prepend IV for decryption later"
   ]
  },
  {
   "cell_type": "code",
   "execution_count": null,
   "metadata": {},
   "outputs": [
    {
     "name": "stdout",
     "output_type": "stream",
     "text": [
      "{'IpfsHash': 'QmZpJnBR1sN8cXgWfJQoKtKtGnLA9MDKZYqBDpkPVMfL5L', 'PinSize': 1067134, 'Timestamp': '2025-03-29T16:49:35.801Z', 'ID': 'ca2b1c3d-a85d-4e2e-a887-4fa3a57aca7f', 'Name': 'encrypted_audio_2.bin', 'NumberOfFiles': 1, 'MimeType': 'application/octet-stream', 'GroupId': None, 'Keyvalues': None}\n"
     ]
    }
   ],
   "source": [
    "import requests\n",
    "\n",
    "PINATA_JWT = \"ํYour pinata jwt\"  # Get this from your Pinata dashboard\n",
    "\n",
    "headers = {\n",
    "    \"Authorization\": f\"Bearer {PINATA_JWT}\"\n",
    "}\n",
    "\n",
    "with open(\"encrypted_audio.bin\", \"rb\") as f:\n",
    "    files = {\n",
    "        \"file\": (\"encrypted_audio_2.bin\", f)\n",
    "    }\n",
    "\n",
    "    response = requests.post(\n",
    "        \"https://api.pinata.cloud/pinning/pinFileToIPFS\",\n",
    "        files=files,\n",
    "        headers=headers\n",
    "    )\n",
    "\n",
    "    print(response.json())"
   ]
  },
  {
   "cell_type": "markdown",
   "metadata": {},
   "source": [
    "## Try to combine with encryption stuff"
   ]
  },
  {
   "cell_type": "code",
   "execution_count": 15,
   "metadata": {},
   "outputs": [],
   "source": [
    "from umbral import SecretKey, Signer, encrypt\n",
    "\n",
    "# === Step 1: Generate Umbral key pairs ===\n",
    "# Alice's keys\n",
    "alices_secret_key = SecretKey.random()\n",
    "alices_public_key = alices_secret_key.public_key()\n",
    "\n",
    "alices_signing_key = SecretKey.random()\n",
    "alices_signer = Signer(alices_signing_key)\n",
    "alices_verifying_key = alices_signing_key.public_key()\n",
    "\n",
    "# Bob's keys\n",
    "bobs_secret_key = SecretKey.random()\n",
    "bobs_public_key = bobs_secret_key.public_key()\n",
    "\n",
    "# === Step 2: Encrypt the AES key using Alice's public key ===\n",
    "capsule, encrypted_aes_key = encrypt(alices_public_key, aes_key)\n",
    "\n",
    "# # Save capsule and encrypted key (optional for reuse or sharing)\n",
    "# import pickle\n",
    "# with open(\"capsule.bin\", \"wb\") as f:\n",
    "#     pickle.dump(capsule, f)\n",
    "\n",
    "# with open(\"encrypted_aes_key.bin\", \"wb\") as f:\n",
    "#     f.write(encrypted_aes_key)\n",
    "\n",
    "# print(\"AES key encrypted and capsule saved.\")"
   ]
  },
  {
   "cell_type": "code",
   "execution_count": 16,
   "metadata": {},
   "outputs": [
    {
     "name": "stdout",
     "output_type": "stream",
     "text": [
      "20 kfrags generated.\n"
     ]
    }
   ],
   "source": [
    "from umbral import generate_kfrags\n",
    "\n",
    "# Alice generates \"M of N\" re-encryption key fragments for Bob\n",
    "# For example: 10-of-20 (Bob needs any 10 out of 20)\n",
    "kfrags = generate_kfrags(\n",
    "    delegating_sk=alices_secret_key,\n",
    "    receiving_pk=bobs_public_key,\n",
    "    signer=alices_signer,\n",
    "    threshold=10,  # minimum number of cfrags needed\n",
    "    shares=20      # total number of kfrags generated\n",
    ")\n",
    "\n",
    "print(f\"{len(kfrags)} kfrags generated.\")"
   ]
  },
  {
   "cell_type": "code",
   "execution_count": 17,
   "metadata": {},
   "outputs": [
    {
     "name": "stdout",
     "output_type": "stream",
     "text": [
      "10 cfrags attached to the capsule.\n"
     ]
    }
   ],
   "source": [
    "from umbral import reencrypt\n",
    "from umbral import CapsuleFrag  # Just for type clarity\n",
    "\n",
    "# Simulate proxy re-encrypting using kfrags (pick 10, threshold)\n",
    "selected_kfrags = kfrags[:10]  # We just use the first 10 for simplicity\n",
    "\n",
    "cfrags = []  # Re-encrypted capsule fragments\n",
    "for kfrag in selected_kfrags:\n",
    "    cfrag = reencrypt(kfrag=kfrag, capsule=capsule)\n",
    "    cfrags.append(cfrag)\n",
    "\n",
    "# # Attach the cfrags to the capsule so Bob can use them\n",
    "# for cfrag in cfrags:\n",
    "#     capsule.attach_cfrag(cfrag)\n",
    "\n",
    "print(f\"{len(cfrags)} cfrags attached to the capsule.\")"
   ]
  },
  {
   "cell_type": "code",
   "execution_count": 18,
   "metadata": {},
   "outputs": [
    {
     "name": "stdout",
     "output_type": "stream",
     "text": [
      "✅ Bob successfully recovered the AES key!\n"
     ]
    }
   ],
   "source": [
    "from umbral import pre\n",
    "\n",
    "# Bob decrypts the AES key using the re-encrypted capsule and cfrags\n",
    "bob_aes_key = pre.decrypt_reencrypted(\n",
    "    receiving_sk=bobs_secret_key,        # Bob’s private key\n",
    "    delegating_pk=alices_public_key,     # Alice’s public key (used during original encryption)\n",
    "    capsule=capsule,                     # Capsule with attached cfrags\n",
    "    verified_cfrags=cfrags,              # The re-encrypted fragments from proxies\n",
    "    ciphertext=encrypted_aes_key         # The encrypted AES key\n",
    ")\n",
    "\n",
    "assert bob_aes_key == aes_key  # Sanity check!\n",
    "print(\"✅ Bob successfully recovered the AES key!\")"
   ]
  },
  {
   "cell_type": "code",
   "execution_count": 19,
   "metadata": {},
   "outputs": [
    {
     "data": {
      "text/plain": [
       "b'5\\x9ak\\x89\\t\\x1cXI\\xf4\\x82]\\xbf\\xa9\\xe9\\xe9\\xf5\\xa7\\x07\\x91\\xf6f\\xf1\\x90!\\xef\\xb2\\xd9\\x06]\\xbf`&'"
      ]
     },
     "execution_count": 19,
     "metadata": {},
     "output_type": "execute_result"
    }
   ],
   "source": [
    "aes_key"
   ]
  },
  {
   "cell_type": "markdown",
   "metadata": {},
   "source": [
    "## Trying to download from pinata"
   ]
  },
  {
   "cell_type": "code",
   "execution_count": 21,
   "metadata": {},
   "outputs": [
    {
     "data": {
      "text/plain": [
       "'QmZpJnBR1sN8cXgWfJQoKtKtGnLA9MDKZYqBDpkPVMfL5L'"
      ]
     },
     "execution_count": 21,
     "metadata": {},
     "output_type": "execute_result"
    }
   ],
   "source": [
    "#cid is response.json()['IpfsHash']\n",
    "\n",
    "cid = response.json()['IpfsHash']\n",
    "cid"
   ]
  },
  {
   "cell_type": "code",
   "execution_count": 22,
   "metadata": {},
   "outputs": [
    {
     "name": "stdout",
     "output_type": "stream",
     "text": [
      "✅ File downloaded from IPFS via Pinata.\n"
     ]
    }
   ],
   "source": [
    "import requests\n",
    "\n",
    "# # Replace with your actual CID from upload step\n",
    "# cid = \"QmYourEncryptedFileHashHere\"\n",
    "\n",
    "# Default Pinata public gateway\n",
    "url = f\"https://gateway.pinata.cloud/ipfs/{cid}\"\n",
    "\n",
    "# Or use your custom gateway:\n",
    "# url = f\"https://your-gateway-name.mypinata.cloud/ipfs/{cid}\"\n",
    "\n",
    "response = requests.get(url)\n",
    "\n",
    "if response.status_code == 200:\n",
    "    with open(\"downloaded_encrypted_audio.bin\", \"wb\") as f:\n",
    "        f.write(response.content)\n",
    "    print(\"✅ File downloaded from IPFS via Pinata.\")\n",
    "else:\n",
    "    print(\"❌ Failed to download:\", response.status_code, response.text)"
   ]
  },
  {
   "cell_type": "code",
   "execution_count": 23,
   "metadata": {},
   "outputs": [
    {
     "name": "stdout",
     "output_type": "stream",
     "text": [
      "✅ Decryption complete! MP3 saved as 'decrypted_audio.mp3'\n"
     ]
    }
   ],
   "source": [
    "from cryptography.hazmat.primitives.ciphers import Cipher, algorithms, modes\n",
    "from cryptography.hazmat.primitives import padding\n",
    "from cryptography.hazmat.backends import default_backend\n",
    "\n",
    "# === Step 1: Read the encrypted file ===\n",
    "with open(\"/Users/thanakrit/Documents/SoundRise_new/downloaded_encrypted_audio.bin\", \"rb\") as f:\n",
    "    encrypted_data = f.read()\n",
    "\n",
    "# Extract IV and ciphertext\n",
    "iv = encrypted_data[:16]\n",
    "ciphertext = encrypted_data[16:]\n",
    "\n",
    "# === Step 2: AES decryption ===\n",
    "cipher = Cipher(algorithms.AES(bob_aes_key), modes.CBC(iv), backend=default_backend())\n",
    "decryptor = cipher.decryptor()\n",
    "padded_plaintext = decryptor.update(ciphertext) + decryptor.finalize()\n",
    "\n",
    "# === Step 3: Remove padding ===\n",
    "unpadder = padding.PKCS7(128).unpadder()\n",
    "mp3_data = unpadder.update(padded_plaintext) + unpadder.finalize()\n",
    "\n",
    "# === Step 4: Save decrypted MP3 ===\n",
    "with open(\"/Users/thanakrit/Documents/SoundRise_new/decrypted_audio.mp3\", \"wb\") as f:\n",
    "    f.write(mp3_data)\n",
    "\n",
    "print(\"✅ Decryption complete! MP3 saved as 'decrypted_audio.mp3'\")"
   ]
  }
 ],
 "metadata": {
  "kernelspec": {
   "display_name": "Python 3",
   "language": "python",
   "name": "python3"
  },
  "language_info": {
   "codemirror_mode": {
    "name": "ipython",
    "version": 3
   },
   "file_extension": ".py",
   "mimetype": "text/x-python",
   "name": "python",
   "nbconvert_exporter": "python",
   "pygments_lexer": "ipython3",
   "version": "3.10.13"
  }
 },
 "nbformat": 4,
 "nbformat_minor": 2
}
